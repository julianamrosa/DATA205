{
  "nbformat": 4,
  "nbformat_minor": 0,
  "metadata": {
    "colab": {
      "name": "visualizations_and_statistical_analysis_2.ipynb",
      "provenance": [],
      "collapsed_sections": [],
      "toc_visible": true
    },
    "kernelspec": {
      "name": "python3",
      "display_name": "Python 3"
    },
    "language_info": {
      "name": "python"
    }
  },
  "cells": [
    {
      "cell_type": "markdown",
      "metadata": {
        "id": "obkMthAMBZCX"
      },
      "source": [
        "#Data Visualization and Statistical Analysis"
      ]
    },
    {
      "cell_type": "markdown",
      "metadata": {
        "id": "wS9hEfAhEGhp"
      },
      "source": [
        "Dataframes created on the data_ingestion_wrangling_mc, and data_ingestion_wrangling_us scripts will be used here."
      ]
    },
    {
      "cell_type": "markdown",
      "metadata": {
        "id": "omD1Ml2UB29m"
      },
      "source": [
        "##Importing libraries"
      ]
    },
    {
      "cell_type": "code",
      "metadata": {
        "id": "7IK5wbYPBy2u"
      },
      "source": [
        "import pandas as pd\n",
        "import matplotlib.pyplot as plt\n",
        "import seaborn as sns\n",
        "import numpy as np\n",
        "import matplotlib as mpl"
      ],
      "execution_count": null,
      "outputs": []
    },
    {
      "cell_type": "markdown",
      "metadata": {
        "id": "PFD8JfjEEO9H"
      },
      "source": [
        "##Reading data"
      ]
    },
    {
      "cell_type": "code",
      "metadata": {
        "id": "9nnM209_DM30"
      },
      "source": [
        "hc_mc = pd.read_excel(\"hc_mc.xlsx\", sheet_name='Sheet1')"
      ],
      "execution_count": null,
      "outputs": []
    },
    {
      "cell_type": "code",
      "metadata": {
        "colab": {
          "base_uri": "https://localhost:8080/"
        },
        "id": "NkePwZb8ASDQ",
        "outputId": "e0b088ce-3fc9-4941-ae06-6e14c892af24"
      },
      "source": [
        "hc_mc.info()"
      ],
      "execution_count": null,
      "outputs": [
        {
          "output_type": "stream",
          "text": [
            "<class 'pandas.core.frame.DataFrame'>\n",
            "RangeIndex: 583 entries, 0 to 582\n",
            "Data columns (total 13 columns):\n",
            " #   Column                       Non-Null Count  Dtype         \n",
            "---  ------                       --------------  -----         \n",
            " 0   id                           583 non-null    int64         \n",
            " 1   incident_date                583 non-null    datetime64[ns]\n",
            " 2   bias_code                    582 non-null    object        \n",
            " 3   offense                      582 non-null    object        \n",
            " 4   case_status                  404 non-null    object        \n",
            " 5   victim_type                  582 non-null    object        \n",
            " 6   victim_count                 324 non-null    float64       \n",
            " 7   suspect_count                248 non-null    float64       \n",
            " 8   suspects_less_than_18_years  61 non-null     float64       \n",
            " 9   suspects_18_35_years_old     52 non-null     float64       \n",
            " 10  suspects_36_45_years_old     23 non-null     float64       \n",
            " 11  suspects_46_55_years_old     21 non-null     float64       \n",
            " 12  suspects_55_years_old        31 non-null     float64       \n",
            "dtypes: datetime64[ns](1), float64(7), int64(1), object(4)\n",
            "memory usage: 59.3+ KB\n"
          ],
          "name": "stdout"
        }
      ]
    },
    {
      "cell_type": "code",
      "metadata": {
        "id": "nSBrxT9zES31"
      },
      "source": [
        "hc_us = pd.read_excel(\"hc_us.xlsx\", sheet_name='Sheet1')"
      ],
      "execution_count": null,
      "outputs": []
    },
    {
      "cell_type": "code",
      "metadata": {
        "colab": {
          "base_uri": "https://localhost:8080/"
        },
        "id": "b6gdIzjCEbHO",
        "outputId": "e9d3da49-cdc7-4f5b-90a4-e36164911aba"
      },
      "source": [
        "hc_us.info()"
      ],
      "execution_count": null,
      "outputs": [
        {
          "output_type": "stream",
          "text": [
            "<class 'pandas.core.frame.DataFrame'>\n",
            "RangeIndex: 201376 entries, 0 to 201375\n",
            "Data columns (total 11 columns):\n",
            " #   Column              Non-Null Count   Dtype  \n",
            "---  ------              --------------   -----  \n",
            " 0   id                  201376 non-null  float64\n",
            " 1   year                201376 non-null  int64  \n",
            " 2   state               201376 non-null  object \n",
            " 3   bias_code           201376 non-null  object \n",
            " 4   offense             201376 non-null  object \n",
            " 5   victim_type         200063 non-null  object \n",
            " 6   victim_count        201376 non-null  int64  \n",
            " 7   offender_count      201376 non-null  int64  \n",
            " 8   adult_offenders     32070 non-null   float64\n",
            " 9   juvenile_offenders  33411 non-null   float64\n",
            " 10  offender_race       112074 non-null  object \n",
            "dtypes: float64(3), int64(3), object(5)\n",
            "memory usage: 16.9+ MB\n"
          ],
          "name": "stdout"
        }
      ]
    },
    {
      "cell_type": "markdown",
      "metadata": {
        "id": "MuahjeIRBk3C"
      },
      "source": [
        "##Question 5: What is the median for the number of suspects? What about the mean? Which one is more informative in this case?"
      ]
    },
    {
      "cell_type": "code",
      "metadata": {
        "colab": {
          "base_uri": "https://localhost:8080/"
        },
        "id": "7qStbUhCEuPg",
        "outputId": "5b1720f8-85f6-4390-b42e-94119b693490"
      },
      "source": [
        "#Choosing a Sample\n",
        "np.random.seed(180020935)\n",
        "samp1 = hc_mc.iloc[np.random.randint(low=0, high=hc_mc.shape[0], size=int(round(hc_mc.shape[0]*0.1, 0)))]\n",
        "samp1.shape"
      ],
      "execution_count": null,
      "outputs": [
        {
          "output_type": "execute_result",
          "data": {
            "text/plain": [
              "(58, 13)"
            ]
          },
          "metadata": {
            "tags": []
          },
          "execution_count": 76
        }
      ]
    },
    {
      "cell_type": "code",
      "metadata": {
        "id": "WyU7lDmkGDt5"
      },
      "source": [
        "#Bootstrapping for the median\n",
        "from sklearn.utils import resample\n",
        "samps_medians1 = []\n",
        "np.random.seed(19042020)\n",
        "for i in range(1000):\n",
        "  samps_medians1.append(resample(samp1)[\"suspect_count\"].median())"
      ],
      "execution_count": null,
      "outputs": []
    },
    {
      "cell_type": "code",
      "metadata": {
        "colab": {
          "base_uri": "https://localhost:8080/"
        },
        "id": "6ohQcx_EGqnc",
        "outputId": "e13559b4-05d5-4d6b-fd30-213a6ff976ad"
      },
      "source": [
        "#95% confidence interval for the median\n",
        "ci1 = np.percentile(samps_medians1, [2.5, 97.5])\n",
        "print(ci1)"
      ],
      "execution_count": null,
      "outputs": [
        {
          "output_type": "stream",
          "text": [
            "[1. 2.]\n"
          ],
          "name": "stdout"
        }
      ]
    },
    {
      "cell_type": "code",
      "metadata": {
        "id": "dFHI6Z-GGzzC"
      },
      "source": [
        "#Bootstrapping for the mean\n",
        "from sklearn.utils import resample\n",
        "samps_means1 = []\n",
        "np.random.seed(20200419)\n",
        "for i in range(1000):\n",
        "  samps_means1.append(resample(samp1)[\"suspect_count\"].mean())"
      ],
      "execution_count": null,
      "outputs": []
    },
    {
      "cell_type": "code",
      "metadata": {
        "colab": {
          "base_uri": "https://localhost:8080/"
        },
        "id": "2jMzrVO6Ha6u",
        "outputId": "25743f4d-1941-49bd-f55b-3ecf3ab6b654"
      },
      "source": [
        "#95% confidence interval for the mean\n",
        "ci2 = np.percentile(samps_means1, [2.5, 97.5])\n",
        "print(ci2)"
      ],
      "execution_count": null,
      "outputs": [
        {
          "output_type": "stream",
          "text": [
            "[1.32       2.24003448]\n"
          ],
          "name": "stdout"
        }
      ]
    },
    {
      "cell_type": "code",
      "metadata": {
        "colab": {
          "base_uri": "https://localhost:8080/",
          "height": 294
        },
        "id": "Gf_cUUkBIKW4",
        "outputId": "e0457313-5914-4624-a16a-d82ab4fd69e3"
      },
      "source": [
        "#Histogram\n",
        "import matplotlib.patches as mpatches\n",
        "\n",
        "plt.hist(hc_mc.suspect_count, bins=4, color=\"darkgoldenrod\")\n",
        "plt.xlabel(\"Suspect Count\")\n",
        "plt.ylabel(\"Number of Incidents\")\n",
        "plt.title(\"Number of Suspects\")\n",
        "plt.xticks(ticks=[1, 2, 3, 4])\n",
        "plt.axvline(ci1[0], color=\"green\")\n",
        "plt.axvline(ci1[1], color=\"green\")\n",
        "plt.axvline(ci2[0], color=\"red\")\n",
        "plt.axvline(ci2[1], color=\"red\")\n",
        "plt.legend(handles=[mpatches.Patch(color='green', label='Confidence Interval for The Median'), mpatches.Patch(color='red', label='Confidence Interval for The Mean')])\n",
        "plt.show()"
      ],
      "execution_count": null,
      "outputs": [
        {
          "output_type": "display_data",
          "data": {
            "image/png": "[encoded data removed]",
            "text/plain": [
              "<Figure size 432x288 with 1 Axes>"
            ]
          },
          "metadata": {
            "tags": [],
            "needs_background": "light"
          }
        }
      ]
    },
    {
      "cell_type": "code",
      "metadata": {
        "colab": {
          "base_uri": "https://localhost:8080/"
        },
        "id": "pxQLlJSrTStk",
        "outputId": "c256945d-c51b-4812-e811-997ffd4851c0"
      },
      "source": [
        "#Point estimators\n",
        "print(hc_mc.suspect_count.median())\n",
        "print(hc_mc.suspect_count.mean())"
      ],
      "execution_count": null,
      "outputs": [
        {
          "output_type": "stream",
          "text": [
            "1.0\n",
            "1.3387096774193548\n"
          ],
          "name": "stdout"
        }
      ]
    },
    {
      "cell_type": "markdown",
      "metadata": {
        "id": "ztzD-LO7TPNI"
      },
      "source": [
        "##Question 6: What is the median for the number of victims? What about the mean? Which one is more informative in this case?"
      ]
    },
    {
      "cell_type": "code",
      "metadata": {
        "colab": {
          "base_uri": "https://localhost:8080/"
        },
        "id": "hgiLmnKvVqR8",
        "outputId": "70abf6ff-88d3-475d-a1bf-f4d3ab82cef6"
      },
      "source": [
        "#Choosing a Sample\n",
        "np.random.seed(18012000)\n",
        "samp2 = hc_mc.iloc[np.random.randint(low=0, high=hc_mc.shape[0], size=int(round(hc_mc.shape[0]*0.1, 0)))]\n",
        "samp2.shape"
      ],
      "execution_count": null,
      "outputs": [
        {
          "output_type": "execute_result",
          "data": {
            "text/plain": [
              "(58, 13)"
            ]
          },
          "metadata": {
            "tags": []
          },
          "execution_count": 84
        }
      ]
    },
    {
      "cell_type": "code",
      "metadata": {
        "id": "5QqU1OHkV2ML"
      },
      "source": [
        "#Bootstrapping for the median\n",
        "from sklearn.utils import resample\n",
        "samps_medians2 = []\n",
        "np.random.seed(2000)\n",
        "for i in range(1000):\n",
        "  samps_medians2.append(resample(samp2)[\"victim_count\"].median())"
      ],
      "execution_count": null,
      "outputs": []
    },
    {
      "cell_type": "code",
      "metadata": {
        "colab": {
          "base_uri": "https://localhost:8080/"
        },
        "id": "djgniTliWRvk",
        "outputId": "321fa859-9c86-4d02-edfa-57d2dd187da6"
      },
      "source": [
        "#95% confidence interval for the median\n",
        "ci3 = np.percentile(samps_medians2, [2.5, 97.5])\n",
        "print(ci3)"
      ],
      "execution_count": null,
      "outputs": [
        {
          "output_type": "stream",
          "text": [
            "[1. 1.]\n"
          ],
          "name": "stdout"
        }
      ]
    },
    {
      "cell_type": "code",
      "metadata": {
        "id": "6Zmc6o4nWabJ"
      },
      "source": [
        "#Bootstrapping for the mean\n",
        "from sklearn.utils import resample\n",
        "samps_means2 = []\n",
        "np.random.seed(18)\n",
        "for i in range(1000):\n",
        "  samps_means2.append(resample(samp2)[\"victim_count\"].mean())"
      ],
      "execution_count": null,
      "outputs": []
    },
    {
      "cell_type": "code",
      "metadata": {
        "colab": {
          "base_uri": "https://localhost:8080/"
        },
        "id": "XddvRGJMWrTc",
        "outputId": "40812062-3056-47a4-b211-8cf9dada6d2f"
      },
      "source": [
        "#95% confidence interval for the mean\n",
        "ci4 = np.percentile(samps_means2, [2.5, 97.5])\n",
        "print(ci4)"
      ],
      "execution_count": null,
      "outputs": [
        {
          "output_type": "stream",
          "text": [
            "[1.02702703 1.22862637]\n"
          ],
          "name": "stdout"
        }
      ]
    },
    {
      "cell_type": "code",
      "metadata": {
        "colab": {
          "base_uri": "https://localhost:8080/",
          "height": 294
        },
        "id": "Q_h9LuvUWwXY",
        "outputId": "f499961f-54c6-4c44-c52c-dff4e7a96083"
      },
      "source": [
        "#Histogram\n",
        "plt.hist(hc_mc.victim_count, bins=8, color=\"goldenrod\")\n",
        "plt.xlabel(\"Victim Count\")\n",
        "plt.ylabel(\"Number of Incidents\")\n",
        "plt.title(\"Number of Victims\")\n",
        "plt.xticks(ticks=[0, 1, 2, 3, 4, 5, 6, 7])\n",
        "plt.axvline(ci3[0], color=\"darkgreen\")\n",
        "plt.axvline(ci3[1], color=\"darkgreen\")\n",
        "plt.axvline(ci4[0], color=\"darkred\")\n",
        "plt.axvline(ci4[1], color=\"darkred\")\n",
        "plt.legend(handles=[mpatches.Patch(color='darkgreen', label='Confidence Interval for The Median'), mpatches.Patch(color='darkred', label='Confidence Interval for The Mean')])\n",
        "plt.show()"
      ],
      "execution_count": null,
      "outputs": [
        {
          "output_type": "display_data",
          "data": {
            "image/png": "[encoded data removed]",
            "text/plain": [
              "<Figure size 432x288 with 1 Axes>"
            ]
          },
          "metadata": {
            "tags": [],
            "needs_background": "light"
          }
        }
      ]
    },
    {
      "cell_type": "code",
      "metadata": {
        "colab": {
          "base_uri": "https://localhost:8080/"
        },
        "id": "CpymIFkaXOua",
        "outputId": "24dbeec7-c0f0-4c3d-8f73-569fb95aa7dd"
      },
      "source": [
        "#Point estimators\n",
        "print(hc_mc.victim_count.median())\n",
        "print(hc_mc.victim_count.mean())"
      ],
      "execution_count": null,
      "outputs": [
        {
          "output_type": "stream",
          "text": [
            "1.0\n",
            "1.2067901234567902\n"
          ],
          "name": "stdout"
        }
      ]
    }
  ]
}